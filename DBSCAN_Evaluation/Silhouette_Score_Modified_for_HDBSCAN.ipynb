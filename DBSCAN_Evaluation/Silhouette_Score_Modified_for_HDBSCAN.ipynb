{
 "cells": [
  {
   "cell_type": "code",
   "execution_count": 3,
   "id": "19044c02-7682-4827-89f3-010f408b9dfe",
   "metadata": {},
   "outputs": [],
   "source": [
    "import numpy as np\n",
    "import hdbscan\n",
    "from sklearn.metrics import pairwise_distances\n",
    "from sklearn.neighbors import NearestNeighbors"
   ]
  },
  {
   "cell_type": "markdown",
   "id": "3a3ebfe9-228e-4853-8caf-d8c18b083193",
   "metadata": {},
   "source": [
    "## Core distance calculation\n",
    "Core distances are essential for density-based clustering because they capture how densely packed a point's neighborhood is:\n",
    "If a point has a small core distance, it is surrounded by many close neighbors and is likely in a dense region of the data.\n",
    "\n",
    "\n",
    "If a point has a large core distance, it is more isolated or lies on the edge of a cluster or even in noise.\n",
    "\n",
    "\n",
    "In the context of HDBSCAN, core distances help determine which points should be considered core points, and they are used in calculating mutual reachability distance, which takes into account both the density of the points and their distance.\n",
    "\n",
    "\n",
    "it helps distinguish between core points (in dense regions) and border or noise points (in sparser regions).\n"
   ]
  },
  {
   "cell_type": "code",
   "execution_count": 4,
   "id": "90f5b5e3-0ba1-4f3d-8001-0185fc7a3b6f",
   "metadata": {},
   "outputs": [],
   "source": [
    "## we use the NearestNeighbors class to find the nearest neighbors for each point in the dataset. \n",
    "## n_neighbors=min_samples: Specifies how many nearest neighbors to compute for each point. \n",
    "## In DBSCAN or HDBSCAN, this corresponds to min_samples, which is the number of neighbors required \n",
    "## for a point to be considered a core point.\n",
    "\n",
    "\n",
    "def core_distances(X, min_samples):\n",
    "    \"\"\"Compute the core distance for each point in X\"\"\"\n",
    "    neighbors = NearestNeighbors(n_neighbors=min_samples).fit(X)\n",
    "    distances, indices = neighbors.kneighbors(X)\n",
    "    # The core distance is the distance to the min_samples-th (kth)nearest neighbor\n",
    "    # Taking maximum distance as core distance\n",
    "    core_dist = distances[:, -1]\n",
    "    return core_dist\n"
   ]
  },
  {
   "cell_type": "code",
   "execution_count": 5,
   "id": "1d31f125-e3de-4355-a4bc-576ce84f6fdb",
   "metadata": {},
   "outputs": [],
   "source": [
    "def mutual_reachability_distance(X, core_dist):\n",
    "    \"\"\"Compute the mutual reachability distance matrix\"\"\"\n",
    "    # Compute pairwise Euclidean distances\n",
    "    pairwise_dist = pairwise_distances(X)\n",
    "    \n",
    "    # Mutual reachability distance: max(core_dist[i], core_dist[j], pairwise_dist[i,j])\n",
    "    reachability_dist = np.maximum(pairwise_dist, core_dist[:, np.newaxis])\n",
    "    reachability_dist = np.maximum(reachability_dist, core_dist[np.newaxis, :])\n",
    "    \n",
    "    return reachability_dist"
   ]
  },
  {
   "cell_type": "code",
   "execution_count": 6,
   "id": "e27bb713-02c1-49e8-9171-5b4efe65839e",
   "metadata": {},
   "outputs": [],
   "source": [
    "def modified_silhouette_score(X, labels, min_samples):\n",
    "    \"\"\"Compute the modified Silhouette Score using mutual reachability distance\"\"\"\n",
    "    # Filter out noise points (label == -1)\n",
    "    core_mask = labels != -1\n",
    "    X_core = X[core_mask]\n",
    "    labels_core = labels[core_mask]\n",
    "    \n",
    "    # Compute core distances for core points\n",
    "    core_dist = core_distances(X_core, min_samples)\n",
    "    \n",
    "    # Compute the mutual reachability distance matrix\n",
    "    reachability_dist = mutual_reachability_distance(X_core, core_dist)\n",
    "    \n",
    "    silhouette_vals = []\n",
    "    \n",
    "    for i, label in enumerate(labels_core):\n",
    "        # Intra-cluster distance a(i)\n",
    "        same_cluster_mask = (labels_core == label)\n",
    "        a_i = np.mean(reachability_dist[i, same_cluster_mask])\n",
    "        \n",
    "        # Inter-cluster distance b(i) (nearest cluster)\n",
    "        b_i = np.inf\n",
    "        for other_label in np.unique(labels_core):\n",
    "            if other_label != label:\n",
    "                other_cluster_mask = (labels_core == other_label)\n",
    "                b_i = min(b_i, np.mean(reachability_dist[i, other_cluster_mask]))\n",
    "        \n",
    "        # Silhouette score for point i\n",
    "        s_i = (b_i - a_i) / max(a_i, b_i)\n",
    "        silhouette_vals.append(s_i)\n",
    "    \n",
    "    # Return the average silhouette score\n",
    "    return np.mean(silhouette_vals)\n"
   ]
  },
  {
   "cell_type": "code",
   "execution_count": 7,
   "id": "ff00cabc-0770-4c6a-adc5-e20df50726fb",
   "metadata": {},
   "outputs": [],
   "source": [
    "# Sample data\n",
    "from sklearn.datasets import make_blobs\n",
    "\n",
    "# Generate synthetic data with noise\n",
    "X, _ = make_blobs(n_samples=500, centers=5, cluster_std=0.6, random_state=42)\n"
   ]
  },
  {
   "cell_type": "code",
   "execution_count": 8,
   "id": "b5d6e62d-b344-4ba8-a393-c8ad1c73c6c9",
   "metadata": {},
   "outputs": [],
   "source": [
    "# Apply HDBSCAN clustering\n",
    "hdb = hdbscan.HDBSCAN(min_cluster_size=10, gen_min_span_tree=True)\n",
    "labels = hdb.fit_predict(X)\n"
   ]
  },
  {
   "cell_type": "code",
   "execution_count": 9,
   "id": "5e85fcf0-f9d3-4d8b-8bd6-dc659f5a033b",
   "metadata": {},
   "outputs": [
    {
     "name": "stdout",
     "output_type": "stream",
     "text": [
      "Modified Silhouette Score using Mutual Reachability Distance: 0.7999548521199888\n"
     ]
    }
   ],
   "source": [
    "# Calculate the modified Silhouette Score\n",
    "score = modified_silhouette_score(X, labels, min_samples=10)\n",
    "print(f\"Modified Silhouette Score using Mutual Reachability Distance: {score}\")"
   ]
  },
  {
   "cell_type": "code",
   "execution_count": null,
   "id": "9810539c-d62c-4c2c-b62d-3cb2f368f54d",
   "metadata": {},
   "outputs": [],
   "source": []
  }
 ],
 "metadata": {
  "kernelspec": {
   "display_name": "Python 3 (ipykernel)",
   "language": "python",
   "name": "python3"
  },
  "language_info": {
   "codemirror_mode": {
    "name": "ipython",
    "version": 3
   },
   "file_extension": ".py",
   "mimetype": "text/x-python",
   "name": "python",
   "nbconvert_exporter": "python",
   "pygments_lexer": "ipython3",
   "version": "3.8.18"
  }
 },
 "nbformat": 4,
 "nbformat_minor": 5
}
