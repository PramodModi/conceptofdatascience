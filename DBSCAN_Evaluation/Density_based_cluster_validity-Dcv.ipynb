{
 "cells": [
  {
   "cell_type": "markdown",
   "id": "c4a9dd56-0234-4641-a76d-900e059eee54",
   "metadata": {},
   "source": [
    "## Density-Based Cluster Validity (Dcv)\n",
    "    i. It evaluates clusters produced by density based clustering algorithms such as DBSCAN and HDBSCAN.\n",
    "    ii. The fundamental idea of Dcv is to compare the density inside clusters and the density ouside the clusters (overall dataset).\n"
   ]
  },
  {
   "cell_type": "code",
   "execution_count": 1,
   "id": "d5a71f0e-1c22-4294-a69e-459ff75a6214",
   "metadata": {},
   "outputs": [],
   "source": [
    "import numpy as np\n",
    "from sklearn.metrics.pairwise import euclidean_distances\n",
    "from sklearn.cluster import DBSCAN\n",
    "from sklearn.preprocessing import StandardScaler\n",
    "import hdbscan"
   ]
  },
  {
   "cell_type": "code",
   "execution_count": 8,
   "id": "48e644c1-2751-4555-b6a3-bfcbb0a09f80",
   "metadata": {},
   "outputs": [],
   "source": [
    "# Function to calculate intra-cluster density\n",
    "def intra_cluster_density(X, labels):\n",
    "    densities = []\n",
    "    unique_labels = set(labels)\n",
    "    for label in unique_labels:\n",
    "        if label == -1:  # Ignore noise points\n",
    "            continue\n",
    "       #This selects all the rows (data points) from X where the corresponding value in labels is\n",
    "       #equal to the current label\n",
    "        cluster_points = X[labels == label]\n",
    "        pairwise_distances = euclidean_distances(cluster_points)\n",
    "        cluster_density = np.mean(pairwise_distances)\n",
    "        densities.append(cluster_density)\n",
    "    return np.mean(densities)\n"
   ]
  },
  {
   "cell_type": "code",
   "execution_count": 9,
   "id": "f9b5e816-5a2b-4166-936f-7b81a416dee6",
   "metadata": {},
   "outputs": [],
   "source": [
    "# Function to calculate overall dataset density\n",
    "def overall_density(X):\n",
    "   pairwise_distances = euclidean_distances(X)\n",
    "   return np.mean(pairwise_distances)\n"
   ]
  },
  {
   "cell_type": "code",
   "execution_count": 11,
   "id": "44ff308a-49be-4948-8f90-fe16fae5e614",
   "metadata": {},
   "outputs": [],
   "source": [
    "# Dcv index calculation\n",
    "def density_based_cluster_validity(X, labels):\n",
    "    intra_density = intra_cluster_density(X, labels)\n",
    "    overall_dens = overall_density(X)\n",
    "    return intra_density / overall_dens\n"
   ]
  },
  {
   "cell_type": "code",
   "execution_count": 16,
   "id": "ece8abf2-8ef0-4eee-a871-f30b2839b9aa",
   "metadata": {},
   "outputs": [],
   "source": [
    "# Sample Data\n",
    "\n",
    "from sklearn.datasets import make_moons\n",
    "X, _ = make_moons(n_samples=300, noise=0.05)\n",
    "\n",
    "# Scaling the data\n",
    "X = StandardScaler().fit_transform(X)"
   ]
  },
  {
   "cell_type": "code",
   "execution_count": 17,
   "id": "22e257a7-00ab-4bba-8a76-54522d9329f7",
   "metadata": {},
   "outputs": [],
   "source": [
    "# Apply DBSCAN clustering\n",
    "dbscan = DBSCAN(eps=0.2, min_samples=5)\n",
    "dbscan_labels = dbscan.fit_predict(X)\n"
   ]
  },
  {
   "cell_type": "code",
   "execution_count": 18,
   "id": "f946f86c-20fc-487d-9b1c-d66a3e47f6fb",
   "metadata": {},
   "outputs": [
    {
     "name": "stdout",
     "output_type": "stream",
     "text": [
      "Dcv for DBSCAN: 0.711837958752822\n"
     ]
    }
   ],
   "source": [
    "# Calculate Dcv for DBSCAN clusters\n",
    "dcv_dbscan = density_based_cluster_validity(X, dbscan_labels)\n",
    "print(f\"Dcv for DBSCAN: {dcv_dbscan}\")\n"
   ]
  },
  {
   "cell_type": "code",
   "execution_count": 19,
   "id": "e3c0594c-57e1-4ff9-bc3b-f3ad13ba4619",
   "metadata": {},
   "outputs": [],
   "source": [
    "# Apply HDBSCAN clustering (optional)\n",
    "hdbscan_clusterer = hdbscan.HDBSCAN(min_cluster_size=10)\n",
    "#hdbscan_labels = hdbscan_clusterer.fit_predict(X)\n",
    "hdbscan_labels = hdbscan_clusterer.fit_predict(X)\n"
   ]
  },
  {
   "cell_type": "code",
   "execution_count": 20,
   "id": "586b0d43-2be1-4433-9df8-4618e3c773df",
   "metadata": {},
   "outputs": [
    {
     "name": "stdout",
     "output_type": "stream",
     "text": [
      "Dcv for HDBSCAN: 0.7168203469301986\n"
     ]
    }
   ],
   "source": [
    "# Calculate Dcv for HDBSCAN clusters\n",
    "dcv_hdbscan = density_based_cluster_validity(X, hdbscan_labels)\n",
    "print(f\"Dcv for HDBSCAN: {dcv_hdbscan}\")"
   ]
  },
  {
   "cell_type": "code",
   "execution_count": null,
   "id": "62a2ceae-2487-44ae-8a9d-d973113bc67e",
   "metadata": {},
   "outputs": [],
   "source": []
  }
 ],
 "metadata": {
  "kernelspec": {
   "display_name": "Python 3 (ipykernel)",
   "language": "python",
   "name": "python3"
  },
  "language_info": {
   "codemirror_mode": {
    "name": "ipython",
    "version": 3
   },
   "file_extension": ".py",
   "mimetype": "text/x-python",
   "name": "python",
   "nbconvert_exporter": "python",
   "pygments_lexer": "ipython3",
   "version": "3.8.18"
  }
 },
 "nbformat": 4,
 "nbformat_minor": 5
}
